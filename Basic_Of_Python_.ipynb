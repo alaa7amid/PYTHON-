{
  "nbformat": 4,
  "nbformat_minor": 0,
  "metadata": {
    "colab": {
      "provenance": [],
      "authorship_tag": "ABX9TyMyi5lj3gptrXcg+OVS+1SU",
      "include_colab_link": true
    },
    "kernelspec": {
      "name": "python3",
      "display_name": "Python 3"
    },
    "language_info": {
      "name": "python"
    }
  },
  "cells": [
    {
      "cell_type": "markdown",
      "metadata": {
        "id": "view-in-github",
        "colab_type": "text"
      },
      "source": [
        "<a href=\"https://colab.research.google.com/github/alaa7amid/PYTHON-/blob/main/Basic_Of_Python_.ipynb\" target=\"_parent\"><img src=\"https://colab.research.google.com/assets/colab-badge.svg\" alt=\"Open In Colab\"/></a>"
      ]
    },
    {
      "cell_type": "markdown",
      "source": [
        "#Comment in python\n",
        "\n"
      ],
      "metadata": {
        "id": "1IL0eesxU2Av"
      }
    },
    {
      "cell_type": "code",
      "source": [
        "# هذا تعليق من سطر واحد\n",
        "\n",
        "\"\"\"\n",
        ".هذا تعليق متعدد الأسطر\n",
        ".يمكن أن يمتد عبر عدة أسطر\n",
        "\"\"\"\n"
      ],
      "metadata": {
        "id": "EQMzvKBcWY0S"
      },
      "execution_count": null,
      "outputs": []
    },
    {
      "cell_type": "markdown",
      "source": [],
      "metadata": {
        "id": "NZzhlCboPpfp"
      }
    },
    {
      "cell_type": "markdown",
      "source": [],
      "metadata": {
        "id": "9yDIcHlYPquU"
      }
    },
    {
      "cell_type": "markdown",
      "source": [
        "# Data Type\n"
      ],
      "metadata": {
        "id": "Yj2wMydwXbZR"
      }
    },
    {
      "cell_type": "code",
      "source": [
        "# الأنواع الأساسية (Primitive Types)\n",
        "x = 5                # integer: عدد صحيح\n",
        "y = 3.14             # float: عدد عشري\n",
        "name = 'ali'         # string: نص أو سلسلة حروف\n",
        "is_active = True     # boolean: قيمة منطقية (True أو False)\n",
        "\n",
        "# أنواع البيانات التسلسلية (Sequence Types)\n",
        "numbers = [1, 2, 3]        # list: قائمة يمكن تعديلها\n",
        "coordinates = (10, 20)     # tuple: قائمة ثابتة غير قابلة للتعديل\n",
        "\n",
        "# أنواع البيانات غير المتسلسلة (Non-Sequential Types)\n",
        "unique_values = {1, 2, 3}  # set: مجموعة غير مرتبة من العناصر الفريدة\n",
        "info = {\"name\": \"Ali\", \"age\": 25} # dict: قاموس يحتوي على أزواج مفتاح-قيمة\n",
        "\n",
        "# نوع خاص (Special Type)\n",
        "nothing = None             # NoneType: يمثل عدم وجود قيمة (None)"
      ],
      "metadata": {
        "id": "VL9U4l2Uqdbv"
      },
      "execution_count": null,
      "outputs": []
    },
    {
      "cell_type": "markdown",
      "source": [
        "#Mathematical operations"
      ],
      "metadata": {
        "id": "1y0se18aXZix"
      }
    },
    {
      "cell_type": "code",
      "source": [
        "# العمليات الرياضية الأساسية (Basic Mathematical Operations)\n",
        "\n",
        "x = 5\n",
        "y = 3\n",
        "\n",
        "# Addition\n",
        "result_add = x + y\n",
        "print('Addition: ',result_add) #output: 8\n",
        "\n",
        "#Subtraction\n",
        "result_sub = x - y\n",
        "print('Subtraction: ',result_sub) #output: 2\n",
        "\n",
        "#Multiplication\n",
        "result_mul = x * y\n",
        "print('Multiplication: ',result_mul) #output: 15\n",
        "\n",
        "#Division\n",
        "result_div = x / y\n",
        "print('Division: ',result_div) #output: 1.666\n",
        "\n",
        "\n",
        "# العمليات المتقدمة (Advanced Operations)\n",
        "\n",
        "# Floor Division\n",
        "result_floor_div = x // y\n",
        "print('Floor Division: ',result_floor_div) #output: 1\n",
        "\n",
        "#Modulus\n",
        "result_mod = x % y\n",
        "print('Modulus: ',result_mod) #output: 2\n",
        "\n",
        "#Exponentiation\n",
        "result_exp = x ** y\n",
        "print('Exponentiation: ',result_exp) #output = 125\n",
        "\n",
        "#or using pwor fucntion\n",
        "result_exp = pow(x,y)\n",
        "print('Exponentiation: ',result_exp) #output = 125\n",
        "\n",
        "\n",
        "# العمليات الرياضية من مكتبة math\n",
        "import math\n",
        "\n",
        "\n",
        "#Square Root\n",
        "result_sqrt = math.sqrt(9)\n",
        "print('Square Root: ',result_sqrt) #output: 3.0\n",
        "\n",
        "# Natural Logarithm\n",
        "result_log = math.log(math.e)\n",
        "print(\"Natural Logarithm:\", result_log)  # Output: 1.0\n",
        "\n",
        "# Logarithm Base 10\n",
        "result_log10 = math.log10(100)\n",
        "print(\"Logarithm Base 10:\", result_log10)  # Output: 2.0\n",
        "\n",
        "# Logarithm with Base\n",
        "result_log_base = math.log(8, 2)\n",
        "print(\"Logarithm with Base 2:\", result_log_base)  # Output: 3.0\n",
        "\n",
        "\n",
        "# دوال القيمة المطلقة والتقريب (Absolute and Rounding Functions)\n",
        "\n",
        "# Absolute Value\n",
        "result_abs = abs(-5)\n",
        "print(\"Absolute Value:\", result_abs)  # Output: 5\n",
        "\n",
        "# Round\n",
        "result_round = round(3.6)\n",
        "print(\"Round:\", result_round)  # Output: 4\n",
        "\n",
        "# Round with Decimals\n",
        "result_round_dec = round(3.14159, 2)\n",
        "print(\"Round with 2 decimals:\", result_round_dec)  # Output: 3.14\n",
        "\n",
        "# Ceiling\n",
        "result_ceil = math.ceil(3.2)\n",
        "print(\"Ceiling:\", result_ceil)  # Output: 4\n",
        "\n",
        "# Floor\n",
        "result_floor = math.floor(3.7)\n",
        "print(\"Floor:\", result_floor)  # Output: 3\n",
        "\n",
        "# الدوال المثلثية (Trigonometric Functions)\n",
        "\n",
        "angle_30 = math.radians(30)\n",
        "angle_60 = math.radians(60)\n",
        "angle_45 = math.radians(45)\n",
        "\n",
        "# Sine\n",
        "result_sin = math.sin(angle_30)\n",
        "print(\"Sine of 30 degrees:\", result_sin)  # Output: 0.5\n",
        "\n",
        "# Cosine\n",
        "result_cos = math.cos(angle_60)\n",
        "print(\"Cosine of 60 degrees:\", result_cos)  # Output: 0.5\n",
        "\n",
        "# Tangent\n",
        "result_tan = math.tan(angle_45)\n",
        "print(\"Tangent of 45 degrees:\", result_tan)  # Output: 1.0\n",
        "\n",
        "# دوال العشوائية (Random Functions)\n",
        "import random\n",
        "\n",
        "# Random Float\n",
        "result_random_float = random.random()\n",
        "print(\"Random Float:\", result_random_float)  # Output: Value between 0 and 1\n",
        "\n",
        "# Random Integer\n",
        "result_random_int = random.randint(1, 10)\n",
        "print(\"Random Integer between 1 and 10:\", result_random_int)  # Output: Random integer between 1 and 10\n"
      ],
      "metadata": {
        "colab": {
          "base_uri": "https://localhost:8080/"
        },
        "id": "cvpRVR_Dd3vF",
        "outputId": "c2c78e85-73d9-4cb5-84b7-1a4a06d2e2db"
      },
      "execution_count": null,
      "outputs": [
        {
          "output_type": "stream",
          "name": "stdout",
          "text": [
            "Addition:  8\n",
            "Subtraction:  2\n",
            "Multiplication:  15\n",
            "Division:  1.6666666666666667\n",
            "Floor Division:  1\n",
            "Modulus:  2\n",
            "Exponentiation:  125\n",
            "Exponentiation:  125\n",
            "Square Root:  3.0\n",
            "Natural Logarithm: 1.0\n",
            "Logarithm Base 10: 2.0\n",
            "Logarithm with Base 2: 3.0\n",
            "Absolute Value: 5\n",
            "Round: 4\n",
            "Round with 2 decimals: 3.14\n",
            "Ceiling: 4\n",
            "Floor: 3\n",
            "Sine of 30 degrees: 0.49999999999999994\n",
            "Cosine of 60 degrees: 0.5000000000000001\n",
            "Tangent of 45 degrees: 0.9999999999999999\n",
            "Random Float: 0.5375134024136873\n",
            "Random Integer between 1 and 10: 3\n"
          ]
        }
      ]
    },
    {
      "cell_type": "code",
      "source": [
        "nbvnvnv"
      ],
      "metadata": {
        "id": "IA1cEYxDf8po"
      },
      "execution_count": null,
      "outputs": []
    },
    {
      "cell_type": "code",
      "source": [
        "mnvnv"
      ],
      "metadata": {
        "id": "Z8ojjbkQAO3l"
      },
      "execution_count": null,
      "outputs": []
    }
  ]
}